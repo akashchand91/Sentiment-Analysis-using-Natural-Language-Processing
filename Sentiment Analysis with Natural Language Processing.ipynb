{
 "cells": [
  {
   "cell_type": "code",
   "execution_count": 9,
   "metadata": {},
   "outputs": [],
   "source": [
    "import pandas, numpy as np\n",
    "import json\n",
    "import nltk\n",
    "import matplotlib.pyplot as plt\n",
    "from nltk.corpus import state_union, stopwords\n",
    "from sklearn.feature_extraction.text import TfidfVectorizer\n",
    "from sklearn.cross_validation import train_test_split\n",
    "from sklearn import naive_bayes\n",
    "from sklearn.metrics import roc_auc_score\n",
    "from sklearn import metrics\n",
    "df=pandas.read_json(\"/Users/ankursharma/Desktop/Semester_1/Machine_Learning/project/dataset/review.json\", orient=\"columns\")"
   ]
  },
  {
   "cell_type": "code",
   "execution_count": 10,
   "metadata": {},
   "outputs": [
    {
     "name": "stdout",
     "output_type": "stream",
     "text": [
      "                 business_id  cool       date  funny               review_id  \\\n",
      "0     uYHaNptLzDLoV_JZ_MuzUA     0 2016-06-05      0  GvLmUkjUrOyFH8KFnmT1uw   \n",
      "1     uYHaNptLzDLoV_JZ_MuzUA     0 2015-02-21      0  lGEl24NGj2HVBJrodeXcjg   \n",
      "2     uYHaNptLzDLoV_JZ_MuzUA     0 2013-07-07      0  cUgvEy5wj7zYE68v1BzzVg   \n",
      "3     uYHaNptLzDLoV_JZ_MuzUA     2 2013-04-27      0  FSB_BnvysBgH3JYrbFNcgw   \n",
      "4     uYHaNptLzDLoV_JZ_MuzUA     0 2015-04-13      0  dhl3ZW9aAEX_T7_um5tfaQ   \n",
      "5     uYHaNptLzDLoV_JZ_MuzUA     1 2016-11-08      1  JQJvnM3p-3eML05eKcTgiw   \n",
      "6     jQsNFOzDpxPmOurSWCg1vQ     1 2012-12-30      1  EyQyvTTg2jX4or9bB8PC9g   \n",
      "7     jQsNFOzDpxPmOurSWCg1vQ     1 2009-01-12      1  G-EFA005besj5uHsH0sQFA   \n",
      "8     jQsNFOzDpxPmOurSWCg1vQ     0 2015-07-11      0  6PcJSGUBSLjt4VLXos5C4A   \n",
      "9     jQsNFOzDpxPmOurSWCg1vQ     0 2015-05-27      0  PFJmyZD_lNBa_Y3kbX1VvA   \n",
      "10    jQsNFOzDpxPmOurSWCg1vQ     1 2015-02-28      1  _Qv1FQUToLrKMuG6pV4Gzw   \n",
      "11    jQsNFOzDpxPmOurSWCg1vQ     0 2010-04-05      0  s2mlqrFNaPEGtcnEu3EJ4Q   \n",
      "12    jQsNFOzDpxPmOurSWCg1vQ     0 2015-05-22      0  oiSzZRrbi3y01_wqU528ZQ   \n",
      "13    jQsNFOzDpxPmOurSWCg1vQ     0 2011-06-15      0  4BPjRE9VI0HhyZzyyYv0BQ   \n",
      "14    jQsNFOzDpxPmOurSWCg1vQ     0 2017-03-12      0  kznHtw1Qido_9GX6sDQPJw   \n",
      "15    jQsNFOzDpxPmOurSWCg1vQ     1 2016-12-19      0  HWRTVn3Lc-RwN6udv4WJzQ   \n",
      "16    jQsNFOzDpxPmOurSWCg1vQ     0 2011-08-10      0  GiEB_A-m9HuX521WQNbL8w   \n",
      "17    jQsNFOzDpxPmOurSWCg1vQ     0 2013-06-17      0  GKi4i6qocIgaYcwv1_0zzQ   \n",
      "18    jQsNFOzDpxPmOurSWCg1vQ     0 2015-11-03      0  OrhWg2MmCznwfKfjHKvuhA   \n",
      "19    jQsNFOzDpxPmOurSWCg1vQ     0 2017-07-08      0  QXWku_OB3FCj9VCZfUZwwg   \n",
      "20    jQsNFOzDpxPmOurSWCg1vQ     0 2015-09-22      0  5NtaW5EwXK595kP4Ynnisg   \n",
      "21    jQsNFOzDpxPmOurSWCg1vQ     0 2012-10-08      0  ai6O4UqqDqnjO7gfz6jBkA   \n",
      "22    jQsNFOzDpxPmOurSWCg1vQ     0 2015-12-28      0  ZrvsD7PSyPolII3gp4-uHw   \n",
      "23    jQsNFOzDpxPmOurSWCg1vQ     0 2009-11-18      0  p7OqbXTjwmIN_XYohB6TFw   \n",
      "24    jQsNFOzDpxPmOurSWCg1vQ     2 2012-07-29      2  ukpjwnetF5wGhGrSXmPRwA   \n",
      "25    jQsNFOzDpxPmOurSWCg1vQ     0 2016-06-19      0  mT6U5lujK_zIcIqux92seA   \n",
      "26    jQsNFOzDpxPmOurSWCg1vQ     0 2012-08-23      0  YxAxExTdWtdMhEb14RGFRg   \n",
      "27    jQsNFOzDpxPmOurSWCg1vQ     1 2009-06-25      1  ue6ts-gA9khywe76lEL1Kg   \n",
      "28    jQsNFOzDpxPmOurSWCg1vQ     0 2008-10-06      0  WsTYqsyNyUd7xpwFrgwI0g   \n",
      "29    jQsNFOzDpxPmOurSWCg1vQ     1 2015-03-17      1  g9yv-M3kvOQFPyJHCjUrdg   \n",
      "...                      ...   ...        ...    ...                     ...   \n",
      "5764  yRk8ezAFV59HDHsuHiiU6Q     0 2011-05-16      0  Vm2vdXFSZ7U746n4ySCVtQ   \n",
      "5765  yRk8ezAFV59HDHsuHiiU6Q     0 2011-10-20      0  fLZAZqQbsvj-EBOZ55WWyg   \n",
      "5766  yRk8ezAFV59HDHsuHiiU6Q     0 2009-04-09      0  4YG3BgsIiIvp-VnQKwBcEQ   \n",
      "5767  yRk8ezAFV59HDHsuHiiU6Q     0 2013-09-20      0  kgfUCx0cpIYcrb4df59h1w   \n",
      "5768  yRk8ezAFV59HDHsuHiiU6Q     0 2012-05-11      0  a8b8LOxLfbgV42k7G0KUYQ   \n",
      "5769  yRk8ezAFV59HDHsuHiiU6Q     0 2014-06-02      0  WsK0_ex5ZnN-dR2I-vAE4g   \n",
      "5770  yRk8ezAFV59HDHsuHiiU6Q     0 2016-07-08      1  kG5E7zCsDxGmtQsfXF_IkQ   \n",
      "5771  yRk8ezAFV59HDHsuHiiU6Q     0 2016-07-21      0  ZjD5hPGj9VWrmc4IRZBhkg   \n",
      "5772  yRk8ezAFV59HDHsuHiiU6Q     0 2014-04-16      1  JdoynV4HRjvnOX5R2DojMg   \n",
      "5773  yRk8ezAFV59HDHsuHiiU6Q     0 2013-08-04      0  ye3aLmTN-wwF8CO9-2zVJg   \n",
      "5774  yRk8ezAFV59HDHsuHiiU6Q     0 2017-02-16      0  2En8X31VtqoN0GCdJmHKqA   \n",
      "5775  yRk8ezAFV59HDHsuHiiU6Q     1 2012-02-29      1  wsNo2r2QgrZd2gjZYWqMJQ   \n",
      "5776  yRk8ezAFV59HDHsuHiiU6Q    14 2008-10-14     14  9Qm3sfIhtWHmpTJ40Flosw   \n",
      "5777  yRk8ezAFV59HDHsuHiiU6Q     0 2016-04-05      0  SK-2QcHcFW75qH-GSRweng   \n",
      "5778  yRk8ezAFV59HDHsuHiiU6Q     0 2016-09-02      0  Vxr_baObfRmenDv9uzoJMg   \n",
      "5779  yRk8ezAFV59HDHsuHiiU6Q     0 2012-04-28      0  FbZzsfoIs9luBm-BBmGJSQ   \n",
      "5780  yRk8ezAFV59HDHsuHiiU6Q     0 2016-08-07      0  RK4PAhohcC4W8Utm3bwNeg   \n",
      "5781  yRk8ezAFV59HDHsuHiiU6Q     0 2014-12-05      0  kKWSrSDS3buqvlm6_Quzpw   \n",
      "5782  yRk8ezAFV59HDHsuHiiU6Q     0 2011-09-29      1  38FKFxt8AZ3QlKofLq6FSg   \n",
      "5783  yRk8ezAFV59HDHsuHiiU6Q     1 2011-02-14      1  zWhemxS9p7wU9Mmy5Ul3-A   \n",
      "5784  yRk8ezAFV59HDHsuHiiU6Q     0 2015-09-01      0  MdoVDN8LlSmj0r9fw4CJ8g   \n",
      "5785  yRk8ezAFV59HDHsuHiiU6Q     0 2014-04-17      0  EiqddB0ncQhEZDupG5c6fw   \n",
      "5786  yRk8ezAFV59HDHsuHiiU6Q     0 2014-11-07      0  _M2MeZGqQZd4bdWSesbO_w   \n",
      "5787  yRk8ezAFV59HDHsuHiiU6Q     0 2017-01-28      0  SnaaZzg9HT6x8vknz-Y7vA   \n",
      "5788  yRk8ezAFV59HDHsuHiiU6Q     1 2011-10-31      1  3EN5Y4pycYaJdjncEtRehA   \n",
      "5789  yRk8ezAFV59HDHsuHiiU6Q     0 2010-05-15      1  WnABNL1w69u4f-YqjSqyCw   \n",
      "5790  yRk8ezAFV59HDHsuHiiU6Q     3 2011-04-23      3  gorupBUMxeAV6SBqNu_boA   \n",
      "5791  yRk8ezAFV59HDHsuHiiU6Q     1 2011-07-02      0  3I4rtJB0Mpr_0lqAVm-2NA   \n",
      "5792  yRk8ezAFV59HDHsuHiiU6Q     0 2014-03-18      1  S3G40lzaUCaDlAvI5GFPTg   \n",
      "5793  uYHaNptLzDLoV_JZ_MuzUA     0 2015-07-27      0  6JF4WfHgwYrrdZ2VeYtnFw   \n",
      "\n",
      "      stars                                               text  useful  \\\n",
      "0         1  Erstklassige Lage. Dazu ist alles geschrieben ...       0   \n",
      "1         1  Beautiful space, great location, staff rock. T...       0   \n",
      "2         1  This is a fairly new property I think. It is a...       0   \n",
      "3         1  First time at this group of hotels. Pretty new...       2   \n",
      "4         1  Location location location!  n nMotel One is j...       2   \n",
      "5         1  A hotel that has all the basics that you'd nee...       1   \n",
      "6         1  I decided to try it out, I'm celiac and theref...       2   \n",
      "7         0  I'm not saying Pei Wei is the best asian food ...       1   \n",
      "8         0  Sometimes the food is spot on and delicious an...       0   \n",
      "9         0  Decent customer service but the food was awful...       0   \n",
      "10        1  Super clean restaurant and friendly staff. FRE...       1   \n",
      "11        1  Found this the other night.  It is the PF Chan...       0   \n",
      "12        0  The staff here is great and they're nice,  won...       0   \n",
      "13        0  I had the garlic ginger broccoli chicken and i...       1   \n",
      "14        1  This review is based upon consistency of flavo...       0   \n",
      "15        1  I love this place i'd recommend it to anyone !...       1   \n",
      "16        1  1st! Place is not closed. There was an issue w...       1   \n",
      "17        0  Definitely not a fan. Coming from Orange Count...       0   \n",
      "18        0  Pretty good, not great. Definitely overpriced....       0   \n",
      "19        0  I wish I could give 1.5 stars. Nothing special...       0   \n",
      "20        0  Disappointed that on yelp their hours show the...       1   \n",
      "21        0  1st visit had the lo mein...delish!  \\n2nd vis...       0   \n",
      "22        1  As a vegetarian, it can difficult to find plac...       0   \n",
      "23        0  Typical big business chinese place. Slightly f...       0   \n",
      "24        1  I love Pei Wei since it's just a bit more affo...       1   \n",
      "25        1  Great fresh food and clean restaurant. Friendl...       1   \n",
      "26        0  This is pretty good. My wife and I usually spl...       0   \n",
      "27        1  Food is good and consistent and the service is...       2   \n",
      "28        1  The hubs and I dined at the Glendale location ...       0   \n",
      "29        0  Very clean and staff is always friendly. I usu...       2   \n",
      "...     ...                                                ...     ...   \n",
      "5764      0  In search of a good coffee or munchies?. \\nDD ...       0   \n",
      "5765      0  Haven't had any Dunkin' Donuts since elementar...       0   \n",
      "5766      0  The donuts are as regular as can be. There is ...       0   \n",
      "5767      1  Drove by this location earlier today and got d...       0   \n",
      "5768      0  Three stars for the iced coffee. I have missed...       0   \n",
      "5769      0  No stars for me where did all the good employe...       0   \n",
      "5770      0  Prices aren't competitive for what you're gett...       1   \n",
      "5771      1  I come in semi-frequently to this Dunkin Donut...       0   \n",
      "5772      1  Elyse took care of my concerns. Quick feedback...       1   \n",
      "5773      0  Worst Dunkin Donuts I have ever been to. Littl...       0   \n",
      "5774      0  worst Dunkin donuts ever!!! screw this place. ...       1   \n",
      "5775      0  I am not a big donut eater, as I prefer carby ...       2   \n",
      "5776      0  check out the wife's review:\\n\\nhttp://www.yel...      13   \n",
      "5777      0  I have been a long time fan of DD and I'm sad ...       0   \n",
      "5778      0  I grew up having Dunkin Donuts on almost every...       0   \n",
      "5779      1  I only come here for the hot coffee. It's the ...       0   \n",
      "5780      0  This is the worst dunkin donuts I've been to a...       0   \n",
      "5781      0  Being from the east coast I grew up on Dunkin ...       0   \n",
      "5782      0  I came in on Labor day one morning w/ my kids,...       2   \n",
      "5783      0  The service was good. I went in to try the new...       1   \n",
      "5784      1  Very friendly professional staff. We had a nic...       0   \n",
      "5785      0  They got our order wrong twice, we had to walk...       0   \n",
      "5786      0  Great coffee, great donuts. However, we had th...       0   \n",
      "5787      0  Terrible! This dunkin location is never proper...       0   \n",
      "5788      1  First time hitting up this DD last weekend! Of...       1   \n",
      "5789      0  Blah. Seriously the most disgusting, chemicall...       0   \n",
      "5790      1  So I was totally upset when I seen that this D...       3   \n",
      "5791      1  I missed DD when I was in San Francisco. I was...       1   \n",
      "5792      1  If your up early and need some good coffee and...       0   \n",
      "5793      0  Stayed here for two nights, costs was £109 per...       1   \n",
      "\n",
      "                     user_id  \n",
      "0     rW8q706dz5-NnXDzMwVkiw  \n",
      "1     yx8vNXUL0D0HS8rUIC7AFA  \n",
      "2     zXnH6W74FAJQ7q7b-NuBsA  \n",
      "3     c5yp5hxwC1N98MjbV2LyWQ  \n",
      "4     xJisL5w4wOgiYLokGMT_IA  \n",
      "5     tgV6tsYQ66DZ3LQKvtC6cw  \n",
      "6     XylT12exfdLiI_3uDLVIpw  \n",
      "7     Ji9PeffxjwqPLO7pEfSpKQ  \n",
      "8     TLIWzAJPrET0zX4_vgvLhg  \n",
      "9     JZEiTNWBwmv6MOOXYCAaMQ  \n",
      "10    E56sVQT5-OWfSejJrma8_w  \n",
      "11    4WYICo4emecA9r7sPYQkBw  \n",
      "12    P8mVj7AZwJTFFH5FXbbmUg  \n",
      "13    7Y4NEBQqWg7j-TvrQi6UZQ  \n",
      "14    vgZqQqe8cj6SBMH0EqDliw  \n",
      "15    O7G_c6wFXSygr82qs0GAcA  \n",
      "16    UG4EKu13JRwzRix6ESINdg  \n",
      "17    ZZG6yR27lIy3xwUYVgHO7w  \n",
      "18    1YorWW0Z-YDuYC5GplNabw  \n",
      "19    ujOPJEz_KxzAyZDnji-2Ng  \n",
      "20    6aEUn50d3Ts7MiGu6WdpKA  \n",
      "21    R6vb0FtmClhfwajs_AuusQ  \n",
      "22    CPuUagT2rfUJm6hRgxn3JQ  \n",
      "23    OYRBjBWy1uOm12N3cokS_Q  \n",
      "24    PKZLwAGgBtQCjJtGhyPETA  \n",
      "25    9bJ6j0zrV1XSiSnzQWM5Tw  \n",
      "26    8nCmV4RMwf4GpaN-A_2Tfw  \n",
      "27    tbAQMMVlhxvXhe6KifrZ-A  \n",
      "28    1s0Q1KwGpJIKvD-SRSpwjw  \n",
      "29    -0kiduTUToVYFqN_NEqMSw  \n",
      "...                      ...  \n",
      "5764  WTV-I9iWtoN1DFAVRL-eHw  \n",
      "5765  5h-h3MqfaQ93tki3vTYvJQ  \n",
      "5766  xA_upwVTOVtXkS0NGISGng  \n",
      "5767  fSFpjl-C0fXY7h7cG8Wxeg  \n",
      "5768  bnk8hI3N5tprKm_lMK4I-w  \n",
      "5769  CHzhbGuXpfR0pNIGiMgcsg  \n",
      "5770  mx-Gmb2psXZ_xowNMHA2Hw  \n",
      "5771  HLSCbhc1R1OpVpP9-9F3JQ  \n",
      "5772  YxtK3Qr7yCzO637neBOPhw  \n",
      "5773  Oh1VDabR5Oc3Yx_uVcN-pQ  \n",
      "5774  TXt5X7bPkLhAnNWxJIht5w  \n",
      "5775  Ae4uXwFHp-5fGrt6OONaXw  \n",
      "5776  vRjVhl3ONG2GfWY4NXJZbQ  \n",
      "5777  ha5C5XYVeP7-WxoSF51Yvg  \n",
      "5778  T2_H43Ijd5Zs0ban3vCAWg  \n",
      "5779  KZFQc2w1GcJ3CSD-ewCM0g  \n",
      "5780  U-jC3qcn_GzdtvKf5Fy1yQ  \n",
      "5781  89kfxDjh6GqFg7LVRaL0Hg  \n",
      "5782  G0hKae1fj3M3CGz7EpTqEQ  \n",
      "5783  xWk0I0S9KWMB06wKUEDYxg  \n",
      "5784  70FR1a5s5x5EjiYyBf0kiw  \n",
      "5785  oAIcFvWMDkyzfCyHHPOK3A  \n",
      "5786  141lhbCGhduUaFs17MAnww  \n",
      "5787  rr5i0XopTwKNdg3r0ckuLA  \n",
      "5788  fK3grD8qWcHjV7Ilxhu46w  \n",
      "5789  i9FNORpVYsGnF25o788mKQ  \n",
      "5790  PDLDUHtmPGTL6VCVC6tcUQ  \n",
      "5791  UWN-IXDJNqE3Ldl2lJY76w  \n",
      "5792  csXfzAq3PTwv1iLrWe2iFA  \n",
      "5793  Q-3YCVywc03w56wYtGlKvg  \n",
      "\n",
      "[5794 rows x 9 columns]\n"
     ]
    }
   ],
   "source": [
    "df[['stars']]=df[['stars']].replace([3],0)\n",
    "df[['stars']]=df[['stars']].replace([1,2],0)\n",
    "df[['stars']]=df[['stars']].replace([4,5],1)\n",
    "\n",
    "\n",
    "print(df)\n",
    "\n",
    "stopset = set(stopwords.words('english'))\n",
    "vector = TfidfVectorizer(use_idf=True, lowercase=True, strip_accents='ascii', stop_words=stopset)\n",
    "\n",
    "y = df.stars\n",
    "\n",
    "x= vector.fit_transform(df.text)"
   ]
  },
  {
   "cell_type": "code",
   "execution_count": 11,
   "metadata": {},
   "outputs": [
    {
     "name": "stdout",
     "output_type": "stream",
     "text": [
      "(5794,)\n",
      "(5794, 19814)\n"
     ]
    },
    {
     "data": {
      "text/plain": [
       "0.85535834191324578"
      ]
     },
     "execution_count": 11,
     "metadata": {},
     "output_type": "execute_result"
    }
   ],
   "source": [
    "\n",
    "print(y.shape)\n",
    "print(x.shape)\n",
    "\n",
    "X_train, X_test, y_train, y_test = train_test_split(x,y,random_state=42)\n",
    "\n",
    "clf = naive_bayes.MultinomialNB()\n",
    "clf.fit(X_train, y_train)\n",
    "\n",
    "roc_auc_score(y_test, clf.predict_proba(X_test)[:,1], average='weighted')\n",
    "\n",
    "\n"
   ]
  },
  {
   "cell_type": "code",
   "execution_count": 12,
   "metadata": {},
   "outputs": [
    {
     "name": "stdout",
     "output_type": "stream",
     "text": [
      "['worst place. Although it has average environment']\n",
      "[1]\n"
     ]
    }
   ],
   "source": [
    "\n",
    "\n",
    "review = np.array([\"worst place. Although it has average environment\"])\n",
    "print(review)\n",
    "\n",
    "\n",
    "print(clf.predict(vector.transform(review)))\n"
   ]
  },
  {
   "cell_type": "code",
   "execution_count": 15,
   "metadata": {},
   "outputs": [
    {
     "data": {
      "text/plain": [
       "0.89666950176820803"
      ]
     },
     "execution_count": 15,
     "metadata": {},
     "output_type": "execute_result"
    }
   ],
   "source": [
    "from sklearn.neural_network import MLPClassifier\n",
    "from sklearn.model_selection import cross_val_score\n",
    "mlp = MLPClassifier(hidden_layer_sizes=(20,20,20,20,20),random_state=1)\n",
    "mlp.fit(X_train, y_train)\n",
    "\n",
    "roc_auc_score(y_test, mlp.predict_proba(X_test)[:,1], average='weighted')\n",
    "\n",
    "\n",
    "\n",
    "#scores = cross_val_score(mlp, A, B, cv=10)\n",
    "#scores"
   ]
  },
  {
   "cell_type": "code",
   "execution_count": 24,
   "metadata": {},
   "outputs": [
    {
     "data": {
      "text/plain": [
       "0.69872756166345851"
      ]
     },
     "execution_count": 24,
     "metadata": {},
     "output_type": "execute_result"
    }
   ],
   "source": [
    "from sklearn import tree\n",
    "clf1 = tree.DecisionTreeClassifier()\n",
    "clf1.fit(X_train, y_train)\n",
    "roc_auc_score(y_test, clf1.predict_proba(X_test)[:,1], average='weighted')"
   ]
  },
  {
   "cell_type": "code",
   "execution_count": null,
   "metadata": {
    "collapsed": true
   },
   "outputs": [],
   "source": []
  },
  {
   "cell_type": "code",
   "execution_count": null,
   "metadata": {
    "collapsed": true
   },
   "outputs": [],
   "source": []
  }
 ],
 "metadata": {
  "kernelspec": {
   "display_name": "Python 3",
   "language": "python",
   "name": "python3"
  },
  "language_info": {
   "codemirror_mode": {
    "name": "ipython",
    "version": 3
   },
   "file_extension": ".py",
   "mimetype": "text/x-python",
   "name": "python",
   "nbconvert_exporter": "python",
   "pygments_lexer": "ipython3",
   "version": "3.6.2"
  }
 },
 "nbformat": 4,
 "nbformat_minor": 2
}
